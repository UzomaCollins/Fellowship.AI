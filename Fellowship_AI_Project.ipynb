{
 "cells": [
  {
   "cell_type": "markdown",
   "id": "dc77d77a-8626-4ff3-9889-4fda0c530c2f",
   "metadata": {},
   "source": [
    "# **Computer Vision Challenge: Training ResNet-50 on the Flowers Dataset**\n",
    "\n",
    "### Overview\n",
    "\n",
    "This is a 102 category dataset, consisting of 102 flower categories. The flowers chosen to be flower commonly occuring in the United Kingdom. Each class consists of between 40 and 258 images. \n",
    "The images have large scale, pose and light variations. In addition, there are categories that have large variations within the category and several very similar categories. \n",
    "\n",
    "The challenge involves working with a **Computer Vision (CV)** task where i used a pre-trained **ResNet-50** model to train on the **Flowers dataset**.\n",
    "\n",
    "## Key Concepts\n",
    "\n",
    "### 1. ResNet-50\n",
    "- ResNet-50 is a deep convolutional neural network (CNN) architecture with 50 layers.\n",
    "- It's known for its ability to learn deep features from images, making it very effective for image classification tasks.\n",
    "- ResNet-50 is pre-trained on a large dataset like ImageNet, meaning it already has learned useful features from millions of images.\n",
    "\n",
    "### 2. Pre-trained Model\n",
    "- A pre-trained model has already been trained on a large dataset and can be fine-tuned for specific tasks.\n",
    "- Fine-tuning a pre-trained model on a new dataset often leads to better performance and faster training compared to training a model from scratch.\n",
    "\n",
    "### 3. Flowers Dataset\n",
    "- This dataset typically consists of images of different types of flowers.\n",
    "- The goal is usually to classify images into different flower categories.\n",
    "\n",
    "\n",
    "## Challenge Breakdown\n",
    "\n",
    "### 1. Load the Pre-trained ResNet-50\n",
    "- I imported the ResNet-50 model with pre-trained weights.\n",
    "- The model is typically pre-trained on ImageNet, which has 1,000 classes.\n",
    "\n",
    "### 2. Modify the Model\n",
    "- Since ResNet-50 is pre-trained on ImageNet, we need to modify the last layer to match the number of classes in the Flowers dataset (e.g., 5 classes if there are 5 types of flowers, in this case we have 102 clases).\n",
    "- I replace the final fully connected layer to output the correct number of classes(102).\n",
    "\n",
    "### 3. Train the Model on the Flowers Dataset\n",
    "- I fine-tuned the model by training it on the Flowers dataset.\n",
    "- I used the features learned by ResNet-50 and adjusted them to better fit the specific characteristics of the flowers in the new dataset.\n",
    "\n",
    "### 4. Evaluate the Model\n",
    "- After training, i evaluate the model’s performance on a test set to see how well it classifies the flowers.\n",
    "\n",
    "## Steps to Implement\n",
    "\n",
    "1. **Data Preprocessing**:\n",
    "   - Load and preprocess the Flowers dataset (e.g., resizing images, normalizing pixel values).\n",
    "\n",
    "2. **Load and Modify ResNet-50**:\n",
    "   - Load the pre-trained ResNet-50 model.\n",
    "   - Modify the final layer to match the number of classes in the Flowers dataset.\n",
    "\n",
    "3. **Fine-tune the Model**:\n",
    "   - Train the model on the Flowers dataset.\n",
    "   - Optionally, freeze the earlier layers of ResNet-50 to retain their pre-learned features and only train the modified layers.\n",
    "\n",
    "4. **Evaluate**:\n",
    "   - Test the model on unseen data and evaluate its performance.\n"
   ]
  },
  {
   "cell_type": "code",
   "execution_count": 1,
   "id": "b176fe75-abc5-419a-8238-72027f37a6aa",
   "metadata": {},
   "outputs": [],
   "source": [
    "import os \n",
    "os.environ['KMP_DUPLICATE_LIB_OK']='True'"
   ]
  },
  {
   "cell_type": "code",
   "execution_count": 28,
   "id": "8dd3c8b1-fe15-4885-9940-389225b8ee04",
   "metadata": {},
   "outputs": [],
   "source": [
    "# import all the needed deep learning libraries\n",
    "import tensorflow as tf\n",
    "from tensorflow.keras.applications import ResNet50\n",
    "from tensorflow.keras.layers import Dense, GlobalAveragePooling2D\n",
    "from tensorflow.keras.models import Model\n",
    "from tensorflow.keras.models import Sequential\n",
    "from tensorflow.keras.optimizers import Adam\n",
    "import matplotlib.pyplot as plt"
   ]
  },
  {
   "cell_type": "code",
   "execution_count": 29,
   "id": "4596274a-c5a3-4b73-bca3-83839a30853a",
   "metadata": {},
   "outputs": [],
   "source": [
    "# Define some constants\n",
    "IMG_HEIGHT = 224  # ResNet-50 images\n",
    "IMG_WIDTH  = 224   # Same with the height\n",
    "BATCH_SIZE = 32\n",
    "NUM_CLASSES = 102  # Number of Flowersclasses"
   ]
  },
  {
   "cell_type": "code",
   "execution_count": 30,
   "id": "52124e5e-3b21-4bd1-bd89-7ebeaed62869",
   "metadata": {},
   "outputs": [
    {
     "name": "stdout",
     "output_type": "stream",
     "text": [
      "Found 6552 files belonging to 102 classes.\n",
      "Found 818 files belonging to 102 classes.\n"
     ]
    }
   ],
   "source": [
    "# Step 1: Data Preprocessing\n",
    "\n",
    "# Load training and validation data\n",
    "train_data_dir = r\"C:\\Users\\COLLINS\\Desktop\\Career\\Image Data\\Flowers Dataset\\dataset\\train\" \n",
    "val_data_dir   = r\"C:\\Users\\COLLINS\\Desktop\\Career\\Image Data\\Flowers Dataset\\dataset\\valid\" \n",
    "\n",
    "# Load and preprocess training data\n",
    "train_generator = tf.keras.preprocessing.image_dataset_from_directory(\n",
    "    train_data_dir,\n",
    "    image_size=(IMG_HEIGHT, IMG_WIDTH),\n",
    "    batch_size=BATCH_SIZE,\n",
    "    label_mode='categorical'  # Multiclass classification\n",
    ")\n",
    "\n",
    "# Load and preprocess validation data\n",
    "validation_generator = tf.keras.preprocessing.image_dataset_from_directory(\n",
    "    val_data_dir,\n",
    "    image_size=(IMG_HEIGHT, IMG_WIDTH),\n",
    "    batch_size=BATCH_SIZE,\n",
    "    label_mode='categorical'\n",
    ")"
   ]
  },
  {
   "cell_type": "code",
   "execution_count": 5,
   "id": "657ed45f-6e0c-4eb6-bfb7-362f4943442f",
   "metadata": {},
   "outputs": [],
   "source": [
    "# Step 2: Load Pre-trained Model\n",
    "\n",
    "# Load ResNet-50 without the top layer and freeze its layers to save memory\n",
    "base_model = ResNet50(weights='imagenet', include_top=False, input_shape=(IMG_HEIGHT, IMG_WIDTH, 3))\n",
    "base_model.trainable = False  # Freezing the base model"
   ]
  },
  {
   "cell_type": "code",
   "execution_count": 6,
   "id": "b1d7c677-3dbb-45fa-8881-467cafd2d50d",
   "metadata": {},
   "outputs": [],
   "source": [
    "# Step 3: Build the Model\n",
    "\n",
    "# Use Sequential API to stack layers\n",
    "model = Sequential([\n",
    "    base_model,  # Add the ResNet-50 base model\n",
    "    GlobalAveragePooling2D(),  # Pooling layer to reduce the dimensionality\n",
    "    Dense(512, activation='relu'),  # Dense layer with 512 units\n",
    "    Dense(NUM_CLASSES, activation='softmax')  # Output layer with softmax for multiclass classification\n",
    "])"
   ]
  },
  {
   "cell_type": "code",
   "execution_count": 7,
   "id": "1cbcd410-eb77-4bbc-a66e-8c8196833e99",
   "metadata": {},
   "outputs": [
    {
     "name": "stdout",
     "output_type": "stream",
     "text": [
      "Model: \"sequential\"\n",
      "_________________________________________________________________\n",
      " Layer (type)                Output Shape              Param #   \n",
      "=================================================================\n",
      " resnet50 (Functional)       (None, 7, 7, 2048)        23587712  \n",
      "                                                                 \n",
      " global_average_pooling2d (G  (None, 2048)             0         \n",
      " lobalAveragePooling2D)                                          \n",
      "                                                                 \n",
      " dense (Dense)               (None, 512)               1049088   \n",
      "                                                                 \n",
      " dense_1 (Dense)             (None, 102)               52326     \n",
      "                                                                 \n",
      "=================================================================\n",
      "Total params: 24,689,126\n",
      "Trainable params: 1,101,414\n",
      "Non-trainable params: 23,587,712\n",
      "_________________________________________________________________\n"
     ]
    }
   ],
   "source": [
    "# check models parameters\n",
    "model.summary()"
   ]
  },
  {
   "cell_type": "code",
   "execution_count": 8,
   "id": "a8a5c5c2-6550-4698-abf3-b427894a1bf7",
   "metadata": {},
   "outputs": [],
   "source": [
    "# Step 4: Compile the Model\n",
    "\n",
    "# Compile the model with Adam optimizer and categorical crossentropy loss\n",
    "model.compile(optimizer=Adam(learning_rate=0.001), loss='categorical_crossentropy', metrics=['accuracy'])"
   ]
  },
  {
   "cell_type": "code",
   "execution_count": 9,
   "id": "28d0043f-d6b6-421c-9244-556a3e952046",
   "metadata": {},
   "outputs": [
    {
     "name": "stdout",
     "output_type": "stream",
     "text": [
      "Epoch 1/10\n",
      "205/205 [==============================] - 1030s 5s/step - loss: 1.4640 - accuracy: 0.6627 - val_loss: 0.6903 - val_accuracy: 0.8154\n",
      "Epoch 2/10\n",
      "205/205 [==============================] - 1064s 5s/step - loss: 0.3143 - accuracy: 0.9147 - val_loss: 0.4882 - val_accuracy: 0.8753\n",
      "Epoch 3/10\n",
      "205/205 [==============================] - 968s 5s/step - loss: 0.1220 - accuracy: 0.9716 - val_loss: 0.4116 - val_accuracy: 0.8949\n",
      "Epoch 4/10\n",
      "205/205 [==============================] - 948s 5s/step - loss: 0.0630 - accuracy: 0.9876 - val_loss: 0.4005 - val_accuracy: 0.8875\n",
      "Epoch 5/10\n",
      "205/205 [==============================] - 945s 5s/step - loss: 0.0344 - accuracy: 0.9940 - val_loss: 0.4502 - val_accuracy: 0.8851\n",
      "Epoch 6/10\n",
      "205/205 [==============================] - 951s 5s/step - loss: 0.0184 - accuracy: 0.9974 - val_loss: 0.3662 - val_accuracy: 0.9034\n",
      "Epoch 7/10\n",
      "205/205 [==============================] - 946s 5s/step - loss: 0.0162 - accuracy: 0.9977 - val_loss: 0.3314 - val_accuracy: 0.9083\n",
      "Epoch 8/10\n",
      "205/205 [==============================] - 948s 5s/step - loss: 0.0121 - accuracy: 0.9982 - val_loss: 0.3557 - val_accuracy: 0.8973\n",
      "Epoch 9/10\n",
      "205/205 [==============================] - 3871s 19s/step - loss: 0.0446 - accuracy: 0.9887 - val_loss: 0.5846 - val_accuracy: 0.8484\n",
      "Epoch 10/10\n",
      "205/205 [==============================] - 1038s 5s/step - loss: 0.1521 - accuracy: 0.9551 - val_loss: 0.6243 - val_accuracy: 0.8484\n"
     ]
    }
   ],
   "source": [
    "# Step 5: Train the Model\n",
    "\n",
    "# Train the model with a reduced number of steps per epoch to avoid memory overload\n",
    "history = model.fit(train_generator, validation_data = validation_generator, epochs = 10)"
   ]
  },
  {
   "cell_type": "code",
   "execution_count": 10,
   "id": "a957fbfa-7895-4102-b7c7-b91c57c9a685",
   "metadata": {},
   "outputs": [
    {
     "name": "stdout",
     "output_type": "stream",
     "text": [
      "26/26 [==============================] - 109s 4s/step - loss: 0.6243 - accuracy: 0.8484\n",
      "Validation Accuracy: 84.84%\n"
     ]
    }
   ],
   "source": [
    "# Step 6: Evaluate the Model\n",
    "\n",
    "# Evaluate the model on validation data\n",
    "val_loss, val_accuracy = model.evaluate(validation_generator)\n",
    "print(f\"Validation Accuracy: {val_accuracy * 100:.2f}%\")"
   ]
  },
  {
   "cell_type": "code",
   "execution_count": 11,
   "id": "0cc112f4-f410-4d69-a3dd-02d5325c8673",
   "metadata": {},
   "outputs": [
    {
     "data": {
      "image/png": "[encoded data removed]",
      "text/plain": [
       "<Figure size 640x480 with 1 Axes>"
      ]
     },
     "metadata": {},
     "output_type": "display_data"
    }
   ],
   "source": [
    "# Step 7: Plot Accuracy\n",
    "\n",
    "# Plot the training and validation accuracy\n",
    "plt.plot(history.history['accuracy'], label='Train Accuracy')\n",
    "plt.plot(history.history['val_accuracy'], label='Validation Accuracy')\n",
    "plt.title('Training and Validation Accuracy')\n",
    "plt.xlabel('Epochs')\n",
    "plt.ylabel('Accuracy')\n",
    "plt.legend()\n",
    "plt.show()"
   ]
  },
  {
   "cell_type": "code",
   "execution_count": null,
   "id": "f1f8378c-980e-464a-86b6-99b9c86903a3",
   "metadata": {},
   "outputs": [],
   "source": [
    "# Step 8: Save the Model\n",
    "\n",
    "# Save the trained model to a file\n",
    "model.save('flower_classification_model.h5')"
   ]
  },
  {
   "cell_type": "code",
   "execution_count": null,
   "id": "9b969879-2ea4-4a1f-aad4-971524af6767",
   "metadata": {},
   "outputs": [],
   "source": [
    "# Step 9: Clear the session to free up memory\n",
    "\n",
    "# free up memory\n",
    "tf.keras.backend.clear_session()"
   ]
  },
  {
   "cell_type": "code",
   "execution_count": null,
   "id": "b5afe61c-ffaf-48ef-ae89-959daab5f9fb",
   "metadata": {},
   "outputs": [],
   "source": []
  },
  {
   "cell_type": "code",
   "execution_count": null,
   "id": "3eee8f5f-0796-472f-941b-ec96039604ca",
   "metadata": {},
   "outputs": [],
   "source": []
  },
  {
   "cell_type": "code",
   "execution_count": null,
   "id": "a8448e3b-c20f-44a6-ae5c-d41d3277df97",
   "metadata": {},
   "outputs": [],
   "source": []
  },
  {
   "cell_type": "code",
   "execution_count": null,
   "id": "d8843f6d-6249-488c-bc6a-24a5127e242d",
   "metadata": {},
   "outputs": [],
   "source": []
  },
  {
   "cell_type": "code",
   "execution_count": null,
   "id": "d687cc71-a013-4f94-a7ea-9dcc2ac8ef85",
   "metadata": {},
   "outputs": [],
   "source": []
  },
  {
   "cell_type": "code",
   "execution_count": null,
   "id": "0326a474-4e8b-4df8-8019-9a13b37758cd",
   "metadata": {},
   "outputs": [],
   "source": []
  },
  {
   "cell_type": "code",
   "execution_count": null,
   "id": "93a376a5-2a75-47d6-b5d8-bbedf196cd0b",
   "metadata": {},
   "outputs": [],
   "source": []
  },
  {
   "cell_type": "code",
   "execution_count": null,
   "id": "2b58b083-7b44-45c6-82b9-bf795337e3e1",
   "metadata": {},
   "outputs": [],
   "source": []
  },
  {
   "cell_type": "code",
   "execution_count": null,
   "id": "04733755-f76b-4632-ae53-4b664c393005",
   "metadata": {},
   "outputs": [],
   "source": []
  },
  {
   "cell_type": "code",
   "execution_count": 21,
   "id": "c02823e8-d65b-4030-9c4d-9a05f6fa3b7e",
   "metadata": {},
   "outputs": [],
   "source": [
    "# # Step 7: Make Predictions\n",
    "\n",
    "# # Predicting\n",
    "# import cv2\n",
    "# image = cv2.imread(str(roses[0]))\n",
    "# image_resized = cv2.resize(image, (IMG_HEIGHT, IMG_WIDTH))\n",
    "# image = np.expand_dims(image_resized, axis = 0)\n",
    "# print(image.shape)\n",
    "\n",
    "# pred = model.predict(image)\n",
    "# output_class = class_names[np.argmax(pred)]\n",
    "# print(\"The predicted class is \", output_class)"
   ]
  },
  {
   "cell_type": "code",
   "execution_count": null,
   "id": "c0d90a05-c4eb-42d4-b7f8-0569f9137439",
   "metadata": {},
   "outputs": [],
   "source": []
  },
  {
   "cell_type": "code",
   "execution_count": null,
   "id": "f20bf6b0-4e28-4487-869c-583c0c565b04",
   "metadata": {},
   "outputs": [],
   "source": []
  },
  {
   "cell_type": "code",
   "execution_count": null,
   "id": "f1d89541-4c2d-40e9-b0a1-ba30bbe69b19",
   "metadata": {},
   "outputs": [],
   "source": []
  },
  {
   "cell_type": "code",
   "execution_count": null,
   "id": "44443213-e0ee-4e48-bba9-b5abeda279af",
   "metadata": {},
   "outputs": [],
   "source": []
  },
  {
   "cell_type": "code",
   "execution_count": null,
   "id": "02892395-9800-43ef-baca-79352eedee9e",
   "metadata": {},
   "outputs": [],
   "source": []
  }
 ],
 "metadata": {
  "kernelspec": {
   "display_name": "Python 3 (ipykernel)",
   "language": "python",
   "name": "python3"
  },
  "language_info": {
   "codemirror_mode": {
    "name": "ipython",
    "version": 3
   },
   "file_extension": ".py",
   "mimetype": "text/x-python",
   "name": "python",
   "nbconvert_exporter": "python",
   "pygments_lexer": "ipython3",
   "version": "3.9.18"
  }
 },
 "nbformat": 4,
 "nbformat_minor": 5
}
